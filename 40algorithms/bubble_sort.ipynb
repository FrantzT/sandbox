{
 "metadata": {
  "language_info": {
   "codemirror_mode": {
    "name": "ipython",
    "version": 3
   },
   "file_extension": ".py",
   "mimetype": "text/x-python",
   "name": "python",
   "nbconvert_exporter": "python",
   "pygments_lexer": "ipython3",
   "version": "3.8.5"
  },
  "orig_nbformat": 2,
  "kernelspec": {
   "name": "python3",
   "display_name": "Python 3",
   "language": "python"
  }
 },
 "nbformat": 4,
 "nbformat_minor": 2,
 "cells": [
  {
   "cell_type": "code",
   "execution_count": 2,
   "metadata": {},
   "outputs": [],
   "source": [
    "\n",
    "\n",
    "list = [25,21,22,24,23,27,26]\n",
    "\n"
   ]
  },
  {
   "cell_type": "code",
   "execution_count": 4,
   "metadata": {},
   "outputs": [
    {
     "output_type": "stream",
     "name": "stdout",
     "text": [
      "0 [21, 22, 24, 23, 25, 26, 27]\n1 [21, 22, 24, 23, 25, 26, 27]\n2 [21, 22, 24, 23, 25, 26, 27]\n3 [21, 22, 23, 24, 25, 26, 27]\n4 [21, 22, 23, 24, 25, 26, 27]\n5 [21, 22, 23, 24, 25, 26, 27]\n6 [21, 22, 23, 24, 25, 26, 27]\n"
     ]
    }
   ],
   "source": [
    "lastElementIndex = len(list)-1\n",
    "print(0,list)\n",
    "for idx in range(lastElementIndex):\n",
    "                if list[idx]>list[idx+1]:\n",
    "                    list[idx],list[idx+1]=list[idx+1],list[idx]\n",
    "                print(idx+1,list)"
   ]
  },
  {
   "cell_type": "code",
   "execution_count": 12,
   "metadata": {},
   "outputs": [],
   "source": [
    "# Bubble sort example\n",
    "def BubbleSort(list):\n",
    "# Exchange the elements to arrange in order\n",
    "    lastElementIndex = len(list)-1 \n",
    "    print(lastElementIndex)\n",
    "    for passNo in range(lastElementIndex,0,-1): # range in reversed order with -1 step\n",
    "        print(passNo)\n",
    "        for idx in range(passNo):\n",
    "            if list[idx]>list[idx+1]:\n",
    "                print(str(list[idx])+\">\"+str(list[idx+1]))\n",
    "                list[idx],list[idx+1]=list[idx+1],list[idx]\n",
    "    return list"
   ]
  },
  {
   "cell_type": "code",
   "execution_count": 14,
   "metadata": {},
   "outputs": [],
   "source": [
    "list = [25,21,22,24,23,27,26]"
   ]
  },
  {
   "cell_type": "code",
   "execution_count": 15,
   "metadata": {},
   "outputs": [
    {
     "output_type": "stream",
     "name": "stdout",
     "text": [
      "6\n6\n25>21\n25>22\n25>24\n25>23\n27>26\n5\n24>23\n4\n3\n2\n1\n"
     ]
    },
    {
     "output_type": "execute_result",
     "data": {
      "text/plain": [
       "[21, 22, 23, 24, 25, 26, 27]"
      ]
     },
     "metadata": {},
     "execution_count": 15
    }
   ],
   "source": [
    "BubbleSort(list)"
   ]
  },
  {
   "cell_type": "code",
   "execution_count": null,
   "metadata": {},
   "outputs": [],
   "source": []
  }
 ]
}